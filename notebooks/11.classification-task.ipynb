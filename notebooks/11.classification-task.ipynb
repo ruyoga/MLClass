{
  "cells": [
    {
      "cell_type": "markdown",
      "metadata": {},
      "source": [
        "# Classification Task: Predicting Tax Avoidance Categories\n",
        "\n",
        "**ML2 Course - Extra Points Assignment (5 points)**\n",
        "\n",
        "---\n",
        "\n",
        "## Task Overview\n",
        "\n",
        "In the original project, we predicted **continuous ETR values** (regression). Your task is to convert this into a **classification problem** by categorizing companies into **tax avoidance risk levels**.\n",
        "\n",
        "**Target Variable Transformation:**\n",
        "- **Low Tax Avoidance** (Class 0): ETR > 0.25 (companies paying relatively high taxes)\n",
        "- **Medium Tax Avoidance** (Class 1): 0.15 < ETR ≤ 0.25\n",
        "- **High Tax Avoidance** (Class 2): ETR ≤ 0.15 (companies with aggressive tax optimization)\n",
        "\n",
        "---\n",
        "\n",
        "## Instructions\n",
        "\n",
        "### Part 1: Data Preparation (1 point)\n",
        "1. Load the prepared datasets (`train_fe.csv` and `test_fe.csv`)\n",
        "2. Create the target classification variable based on ETR thresholds above\n",
        "3. Check class balance and visualize the distribution\n",
        "4. Select features (use existing feature engineering from the project)\n",
        "\n",
        "### Part 2: Model Training (1.5 points)\n",
        "Train and evaluate **THREE** classification models:\n",
        "1. **Logistic Regression** (multiclass)\n",
        "2. **K-Nearest Neighbors Classifier**\n",
        "3. **Support Vector Classifier (SVC)**\n",
        "\n",
        "For each model:\n",
        "- Perform hyperparameter tuning (use GridSearchCV or similar)\n",
        "- Use proper cross-validation strategy for time-series data\n",
        "- Evaluate on training set using CV\n",
        "\n",
        "### Part 3: Final Evaluation (0.5 points)\n",
        "1. Select the best model based on validation performance\n",
        "2. Evaluate on the test set using:\n",
        "   - **Accuracy**\n",
        "   - **Precision, Recall, F1-Score** (for each class)\n",
        "   - **Confusion Matrix**\n",
        "3. Compare results across all three models\n",
        "4. Provide brief interpretation (2-3 sentences)\n",
        "\n",
        "---\n",
        "\n",
        "## Evaluation Metrics\n",
        "\n",
        "Primary metric: **Macro F1-Score** (equally weights all classes)\n",
        "\n",
        "Secondary metrics: Accuracy, Confusion Matrix\n",
        "\n",
        "---\n",
        "\n",
        "## Submission Requirements\n",
        "\n",
        "- Complete this notebook with code and outputs\n",
        "- Save best model(s) as pickle files in `models/` directory\n",
        "- Commit and push to your GitHub repository\n",
        "- Send repository link to: **mj.wozniak9@uw.edu.pl**\n",
        "\n",
        "**Deadline:** [To be announced by instructor]\n",
        "\n",
        "---\n",
        "\n",
        "Good luck! 🚀\n"
      ]
    },
    {
      "cell_type": "markdown",
      "metadata": {},
      "source": [
        "\n"
      ]
    },
    {
      "cell_type": "code",
      "execution_count": null,
      "metadata": {},
      "outputs": [],
      "source": [
        "\n"
      ]
    },
    {
      "cell_type": "markdown",
      "metadata": {},
      "source": [
        "\n"
      ]
    },
    {
      "cell_type": "code",
      "execution_count": null,
      "metadata": {},
      "outputs": [],
      "source": [
        "\n"
      ]
    },
    {
      "cell_type": "code",
      "execution_count": null,
      "metadata": {},
      "outputs": [],
      "source": [
        "\n"
      ]
    },
    {
      "cell_type": "code",
      "execution_count": null,
      "metadata": {},
      "outputs": [],
      "source": [
        "\n"
      ]
    },
    {
      "cell_type": "code",
      "execution_count": null,
      "metadata": {},
      "outputs": [],
      "source": [
        "\n"
      ]
    },
    {
      "cell_type": "markdown",
      "metadata": {},
      "source": [
        "\n"
      ]
    },
    {
      "cell_type": "markdown",
      "metadata": {},
      "source": [
        "\n"
      ]
    },
    {
      "cell_type": "code",
      "execution_count": null,
      "metadata": {},
      "outputs": [],
      "source": [
        "\n"
      ]
    },
    {
      "cell_type": "code",
      "execution_count": null,
      "metadata": {},
      "outputs": [],
      "source": [
        "\n"
      ]
    },
    {
      "cell_type": "markdown",
      "metadata": {},
      "source": [
        "\n"
      ]
    },
    {
      "cell_type": "code",
      "execution_count": null,
      "metadata": {},
      "outputs": [],
      "source": [
        "\n"
      ]
    },
    {
      "cell_type": "code",
      "execution_count": null,
      "metadata": {},
      "outputs": [],
      "source": [
        "\n"
      ]
    },
    {
      "cell_type": "code",
      "execution_count": null,
      "metadata": {},
      "outputs": [],
      "source": [
        "\n"
      ]
    },
    {
      "cell_type": "markdown",
      "metadata": {},
      "source": [
        "\n"
      ]
    },
    {
      "cell_type": "code",
      "execution_count": null,
      "metadata": {},
      "outputs": [],
      "source": [
        "\n"
      ]
    },
    {
      "cell_type": "code",
      "execution_count": null,
      "metadata": {},
      "outputs": [],
      "source": [
        "\n"
      ]
    },
    {
      "cell_type": "markdown",
      "metadata": {},
      "source": [
        "\n"
      ]
    },
    {
      "cell_type": "code",
      "execution_count": null,
      "metadata": {},
      "outputs": [],
      "source": [
        "\n"
      ]
    },
    {
      "cell_type": "code",
      "execution_count": null,
      "metadata": {},
      "outputs": [],
      "source": [
        "\n"
      ]
    },
    {
      "cell_type": "code",
      "execution_count": null,
      "metadata": {},
      "outputs": [],
      "source": [
        "\n"
      ]
    },
    {
      "cell_type": "code",
      "execution_count": null,
      "metadata": {},
      "outputs": [],
      "source": [
        "\n"
      ]
    },
    {
      "cell_type": "code",
      "execution_count": null,
      "metadata": {},
      "outputs": [],
      "source": [
        "\n"
      ]
    },
    {
      "cell_type": "markdown",
      "metadata": {},
      "source": [
        "\n"
      ]
    },
    {
      "cell_type": "markdown",
      "metadata": {},
      "source": [
        "\n"
      ]
    },
    {
      "cell_type": "markdown",
      "metadata": {},
      "source": []
    }
  ],
  "metadata": {
    "language_info": {
      "name": "python"
    }
  },
  "nbformat": 4,
  "nbformat_minor": 2
}
