{
 "cells": [
  {
   "cell_type": "markdown",
   "metadata": {},
   "source": [
    "# Classification Task: Predicting Tax Avoidance Categories\n",
    "\n",
    "**ML2 Course - Extra Points Assignment (5 points)**\n",
    "\n",
    "---\n",
    "\n",
    "## Task Overview\n",
    "\n",
    "In the original project, we predicted **continuous ETR values** (regression). Your task is to convert this into a **classification problem** by categorizing companies into **tax avoidance risk levels**.\n",
    "\n",
    "**Target Variable Transformation:**\n",
    "- **Low Tax Avoidance** (Class 0): ETR > 0.25 (companies paying relatively high taxes)\n",
    "- **Medium Tax Avoidance** (Class 1): 0.15 < ETR ≤ 0.25\n",
    "- **High Tax Avoidance** (Class 2): ETR ≤ 0.15 (companies with aggressive tax optimization)\n",
    "\n",
    "---\n",
    "\n",
    "## Instructions\n",
    "\n",
    "### Part 1: Data Preparation (1 point)\n",
    "1. Load the prepared datasets (`train_fe.csv` and `test_fe.csv`)\n",
    "2. Create the target classification variable based on ETR thresholds above\n",
    "3. Check class balance and visualize the distribution\n",
    "4. Select features (use existing feature engineering from the project)\n",
    "\n",
    "### Part 2: Model Training (1.5 points)\n",
    "Train and evaluate **THREE** classification models:\n",
    "1. **Logistic Regression** (multiclass)\n",
    "2. **K-Nearest Neighbors Classifier**\n",
    "3. **Support Vector Classifier (SVC)**\n",
    "\n",
    "For each model:\n",
    "- Perform hyperparameter tuning (use GridSearchCV or similar)\n",
    "- Use proper cross-validation strategy for time-series data\n",
    "- Evaluate on training set using CV\n",
    "\n",
    "### Part 3: Final Evaluation (0.5 points)\n",
    "1. Select the best model based on validation performance\n",
    "2. Evaluate on the test set using:\n",
    "   - **Accuracy**\n",
    "   - **Precision, Recall, F1-Score** (for each class)\n",
    "   - **Confusion Matrix**\n",
    "3. Compare results across all three models\n",
    "4. Provide brief interpretation (2-3 sentences)\n",
    "\n",
    "---\n",
    "\n",
    "## Evaluation Metrics\n",
    "\n",
    "Primary metric: **Macro F1-Score** (equally weights all classes)\n",
    "\n",
    "Secondary metrics: Accuracy, Confusion Matrix\n",
    "\n",
    "---\n",
    "\n",
    "## Submission Requirements\n",
    "\n",
    "- Complete this notebook with code and outputs\n",
    "- Save best model(s) as pickle files in `models/` directory\n",
    "- Commit and push to your GitHub repository\n",
    "- Send repository link to: **mj.wozniak9@uw.edu.pl**\n",
    "\n",
    "**Deadline:** [To be announced by instructor]\n",
    "\n",
    "---\n",
    "\n",
    "Good luck! 🚀\n"
   ]
  },
  {
   "cell_type": "code",
   "metadata": {
    "ExecuteTime": {
     "end_time": "2025-10-08T13:01:36.470365Z",
     "start_time": "2025-10-08T13:01:36.457313Z"
    }
   },
   "source": [
    "from pathlib import Path\n",
    "import numpy as np\n",
    "import pandas as pd\n",
    "import seaborn as sns\n",
    "from mlxtend.feature_selection import SequentialFeatureSelector as SFS\n",
    "from sklearn.preprocessing import MinMaxScaler\n",
    "from sklearn.metrics import f1_score, make_scorer\n",
    "from sklearn.impute import SimpleImputer\n",
    "from sklearn.model_selection import TimeSeriesSplit, GridSearchCV\n",
    "from sklearn.pipeline import Pipeline\n",
    "from sklearn.preprocessing import StandardScaler\n",
    "from sklearn.linear_model import LogisticRegression\n",
    "from sklearn.neighbors import KNeighborsClassifier\n",
    "from sklearn.svm import SVC\n",
    "from sklearn.metrics import (\n",
    "    accuracy_score,\n",
    "    precision_recall_fscore_support,\n",
    "    confusion_matrix,\n",
    "    ConfusionMatrixDisplay,\n",
    ")\n",
    "import matplotlib.pyplot as plt\n",
    "\n",
    "root = Path().resolve().parent\n",
    "root"
   ],
   "outputs": [
    {
     "data": {
      "text/plain": [
       "PosixPath('/Users/gregruyoga/gmoneycodes/MLClass')"
      ]
     },
     "execution_count": 13,
     "metadata": {},
     "output_type": "execute_result"
    }
   ],
   "execution_count": 13
  },
  {
   "metadata": {},
   "cell_type": "markdown",
   "source": "# Data Preparation"
  },
  {
   "cell_type": "code",
   "metadata": {
    "ExecuteTime": {
     "end_time": "2025-10-08T12:45:32.141375Z",
     "start_time": "2025-10-08T12:45:32.092438Z"
    }
   },
   "source": [
    "train = pd.read_csv(root / 'data' / 'output'/ 'train_fe.csv', index_col=0)\n",
    "test = pd.read_csv(root / 'data' / 'output'/ 'test_fe.csv', index_col=0)\n",
    "\n",
    "def create_targets(df: pd.DataFrame) -> pd.DataFrame:\n",
    "    df = df.copy()\n",
    "    df['target'] = df['etr'].apply(\n",
    "        lambda x: 0 if x > 0.25 else (1 if x > 0.15 else 2)\n",
    "    )\n",
    "    return df\n",
    "\n",
    "train = create_targets(train)\n",
    "test = create_targets(test)"
   ],
   "outputs": [],
   "execution_count": 2
  },
  {
   "cell_type": "code",
   "metadata": {
    "ExecuteTime": {
     "end_time": "2025-10-08T12:45:32.303236Z",
     "start_time": "2025-10-08T12:45:32.227594Z"
    }
   },
   "source": [
    "plt.figure(figsize=(6,4))\n",
    "sns.countplot(x='target', data=train)\n",
    "plt.title('distribution of train data')\n",
    "plt.show()\n",
    "train['target'].value_counts()"
   ],
   "outputs": [
    {
     "name": "stderr",
     "output_type": "stream",
     "text": [
      "/opt/homebrew/Caskroom/miniconda/base/envs/mlclass/lib/python3.12/site-packages/seaborn/categorical.py:1281: FutureWarning: DataFrameGroupBy.apply operated on the grouping columns. This behavior is deprecated, and in a future version of pandas the grouping columns will be excluded from the operation. Either pass `include_groups=False` to exclude the groupings or explicitly select the grouping columns after groupby to silence this warning.\n",
      "  .apply(aggregator, agg_var)\n"
     ]
    },
    {
     "data": {
      "text/plain": [
       "<Figure size 600x400 with 1 Axes>"
      ],
      "image/png": "[encoded data removed]"
     },
     "metadata": {},
     "output_type": "display_data"
    },
    {
     "data": {
      "text/plain": [
       "target\n",
       "1    1668\n",
       "0    1267\n",
       "2    1058\n",
       "Name: count, dtype: int64"
      ]
     },
     "execution_count": 3,
     "metadata": {},
     "output_type": "execute_result"
    }
   ],
   "execution_count": 3
  },
  {
   "cell_type": "code",
   "metadata": {
    "ExecuteTime": {
     "end_time": "2025-10-08T12:45:32.433142Z",
     "start_time": "2025-10-08T12:45:32.380858Z"
    }
   },
   "source": [
    "plt.figure(figsize=(6,4))\n",
    "sns.countplot(x='target', data=test)\n",
    "plt.title('distribution of test data')\n",
    "plt.show()\n",
    "test['target'].value_counts()"
   ],
   "outputs": [
    {
     "name": "stderr",
     "output_type": "stream",
     "text": [
      "/opt/homebrew/Caskroom/miniconda/base/envs/mlclass/lib/python3.12/site-packages/seaborn/categorical.py:1281: FutureWarning: DataFrameGroupBy.apply operated on the grouping columns. This behavior is deprecated, and in a future version of pandas the grouping columns will be excluded from the operation. Either pass `include_groups=False` to exclude the groupings or explicitly select the grouping columns after groupby to silence this warning.\n",
      "  .apply(aggregator, agg_var)\n"
     ]
    },
    {
     "data": {
      "text/plain": [
       "<Figure size 600x400 with 1 Axes>"
      ],
      "image/png": "[encoded data removed]"
     },
     "metadata": {},
     "output_type": "display_data"
    },
    {
     "data": {
      "text/plain": [
       "target\n",
       "1    195\n",
       "0    103\n",
       "2     65\n",
       "Name: count, dtype: int64"
      ]
     },
     "execution_count": 4,
     "metadata": {},
     "output_type": "execute_result"
    }
   ],
   "execution_count": 4
  },
  {
   "metadata": {},
   "cell_type": "markdown",
   "source": "## Standardization for numeric features"
  },
  {
   "metadata": {
    "ExecuteTime": {
     "end_time": "2025-10-08T12:45:32.506890Z",
     "start_time": "2025-10-08T12:45:32.487996Z"
    }
   },
   "cell_type": "code",
   "source": [
    "num_cols = train.select_dtypes(include=[np.number]).columns\n",
    "\n",
    "exclude = {'target'}\n",
    "scale_cols = [c for c in num_cols if train[c].nunique(dropna=True) > 2 and c not in exclude]\n",
    "\n",
    "scaler = MinMaxScaler()\n",
    "scaler.fit(train[scale_cols])\n",
    "\n",
    "train[scale_cols] = scaler.transform(train[scale_cols])\n",
    "test[scale_cols]  = scaler.transform(test[scale_cols])"
   ],
   "outputs": [],
   "execution_count": 5
  },
  {
   "metadata": {},
   "cell_type": "markdown",
   "source": "# Feature Selection"
  },
  {
   "metadata": {
    "ExecuteTime": {
     "end_time": "2025-10-08T13:00:44.828702Z",
     "start_time": "2025-10-08T12:58:40.227487Z"
    }
   },
   "cell_type": "code",
   "source": [
    "exclude_cols = {'target', 'etr'}\n",
    "num_feature_cols = (\n",
    "    train.select_dtypes(include=[np.number])\n",
    "         .columns.difference(exclude_cols)\n",
    "         .tolist()\n",
    ")\n",
    "\n",
    "def non_constant_cols(df, cols):\n",
    "    nunique = df[cols].nunique(dropna=False)\n",
    "    keep = nunique[nunique > 1].index.tolist()\n",
    "    return keep\n",
    "\n",
    "num_feature_cols = non_constant_cols(train, num_feature_cols)\n",
    "\n",
    "X_train = train[num_feature_cols].copy()\n",
    "y_train = train['target'].copy()\n",
    "\n",
    "X_test = test[num_feature_cols].copy()\n",
    "y_test = test['target'] if 'target' in test.columns else None\n",
    "\n",
    "imp = SimpleImputer(strategy='median')\n",
    "X_train = pd.DataFrame(imp.fit_transform(X_train), columns=num_feature_cols, index=train.index)\n",
    "X_test  = pd.DataFrame(imp.transform(X_test),  columns=num_feature_cols, index=test.index)\n",
    "\n",
    "estimator = LogisticRegression(\n",
    "    max_iter=1000,\n",
    "    solver='saga',\n",
    "    penalty='l2',\n",
    "    C=1.0,\n",
    "    class_weight='balanced',  # helpful if classes are imbalanced\n",
    ")\n",
    "\n",
    "cv = StratifiedKFold(n_splits=2, shuffle=True, random_state=42)\n",
    "\n",
    "sfs = SFS(\n",
    "    estimator=estimator,\n",
    "    k_features=30,\n",
    "    forward=True,\n",
    "    floating=True,\n",
    "    scoring='f1_macro',\n",
    "    cv=cv,\n",
    "    n_jobs=-1,\n",
    ")\n",
    "\n",
    "sfs = sfs.fit(X_train, y_train)\n",
    "\n",
    "selected_features = list(sfs.k_feature_names_)   # now actual column names\n",
    "best_cv_score = sfs.k_score_\n",
    "print(f\"Selected {len(selected_features)} features. CV macro-F1: {best_cv_score:.4f}\")\n",
    "print(\"Features:\", selected_features)\n",
    "\n",
    "X_train_sfs = X_train[selected_features].copy()\n",
    "X_test_sfs  = X_test[selected_features].copy()\n",
    "\n",
    "estimator.fit(X_train_sfs, y_train)\n",
    "if y_test is not None:\n",
    "    y_pred = estimator.predict(X_test_sfs)\n",
    "    print(\"Test macro-F1:\", f1_score(y_test, y_pred, average='macro'))"
   ],
   "outputs": [
    {
     "name": "stdout",
     "output_type": "stream",
     "text": [
      "Selected 30 features. CV macro-F1: 0.6592\n",
      "Features: ['adv', 'adv_cat_(0.3, 874.5]', 'adv_cat_(874.5, inf]', 'adv_expenditure', 'adv_expenditure_positive', 'capex2', 'capex2_scaled', 'capex_cat_(5451.0, inf]', 'cce', 'diff', 'diff_dta', 'diff_ma', 'dlc', 'dlc_cat_(176.129, 200.9]', 'dltt', 'etr_y_past', 'ni', 'ni_profit_20000', 'pi_cat_(-8975.0, -1.523]', 'pi_cat_(7875.5, 8108.5]', 'pi_cat_(8108.5, inf]', 'roa_ma', 'roa_past', 'sektor_consumer staples', 'sektor_energy', 'sektor_technology', 'ta', 'txt_cat_(-63.011, -34.811]', 'txt_cat_(24.415, 25.05]', 'txt_cat_(308.55, 327.531]']\n",
      "Test macro-F1: 0.5643789854233076\n"
     ]
    }
   ],
   "execution_count": 12
  },
  {
   "metadata": {},
   "cell_type": "markdown",
   "source": "# Model training"
  },
  {
   "metadata": {
    "ExecuteTime": {
     "end_time": "2025-10-08T13:09:14.681924Z",
     "start_time": "2025-10-08T13:09:14.047627Z"
    }
   },
   "cell_type": "code",
   "source": [
    "X = train[selected_features].copy()\n",
    "y = train['target'].copy()\n",
    "\n",
    "tscv = TimeSeriesSplit(n_splits=5)\n",
    "\n",
    "def run_model(name, pipe, param_grid, cv, scoring='f1_macro'):\n",
    "    gs = GridSearchCV(\n",
    "        estimator=pipe,\n",
    "        param_grid=param_grid,\n",
    "        scoring=scoring,\n",
    "        cv=cv,\n",
    "        n_jobs=-1,\n",
    "        refit=True,\n",
    "        verbose=0,\n",
    "        return_train_score=False,\n",
    "    )\n",
    "    gs.fit(X, y)\n",
    "\n",
    "    best_mean = gs.best_score_\n",
    "    results = pd.DataFrame(gs.cv_results_)\n",
    "    std_at_best = results.loc[results['rank_test_score'] == 1, 'std_test_score'].values[0]\n",
    "\n",
    "    print(f\"\\n[{name}]\")\n",
    "    print(f\"Best CV {scoring}: {best_mean:.4f} ± {std_at_best:.4f}\")\n",
    "    print(\"Best params:\", gs.best_params_)\n",
    "\n",
    "    return gs, results\n",
    "\n",
    "logreg_pipe = Pipeline([\n",
    "    ('clf', LogisticRegression(max_iter=5000, penalty='l2', class_weight='balanced', solver='lbfgs'))\n",
    "])\n",
    "logreg_grid = {\n",
    "    'clf__C': [0.05, 0.1, 0.5, 1.0, 2.0, 5.0],\n",
    "}\n",
    "\n",
    "logreg_gs, logreg_results = run_model(\"Logistic Regression\", logreg_pipe, logreg_grid, tscv)\n"
   ],
   "outputs": [
    {
     "name": "stdout",
     "output_type": "stream",
     "text": [
      "\n",
      "[Logistic Regression]\n",
      "Best CV f1_macro: 0.6005 ± 0.0181\n",
      "Best params: {'clf__C': 0.5}\n"
     ]
    }
   ],
   "execution_count": 15
  },
  {
   "metadata": {
    "ExecuteTime": {
     "end_time": "2025-10-08T13:09:30.553252Z",
     "start_time": "2025-10-08T13:09:29.931440Z"
    }
   },
   "cell_type": "code",
   "source": [
    "knn_pipe = Pipeline([\n",
    "    ('clf', KNeighborsClassifier())\n",
    "])\n",
    "knn_grid = {\n",
    "    'clf__n_neighbors': [3, 5, 9, 15, 25],\n",
    "    'clf__weights': ['uniform', 'distance'],\n",
    "    'clf__p': [1, 2],\n",
    "}\n",
    "\n",
    "knn_gs, knn_results = run_model(\"K-Nearest Neighbors\", knn_pipe, knn_grid, tscv)"
   ],
   "outputs": [
    {
     "name": "stdout",
     "output_type": "stream",
     "text": [
      "\n",
      "[K-Nearest Neighbors]\n",
      "Best CV f1_macro: 0.6203 ± 0.0248\n",
      "Best params: {'clf__n_neighbors': 25, 'clf__p': 2, 'clf__weights': 'uniform'}\n"
     ]
    }
   ],
   "execution_count": 16
  },
  {
   "metadata": {
    "ExecuteTime": {
     "end_time": "2025-10-08T13:11:02.114975Z",
     "start_time": "2025-10-08T13:10:56.460425Z"
    }
   },
   "cell_type": "code",
   "source": [
    "# --- 5) Support Vector Classifier ---\n",
    "svc_pipe = Pipeline([\n",
    "    ('scaler', StandardScaler(with_mean=True, with_std=True)),\n",
    "    ('clf', SVC(class_weight='balanced'))\n",
    "])\n",
    "svc_grid = [\n",
    "    {\n",
    "        'clf__kernel': ['linear'],\n",
    "        'clf__C': [0.1, 0.5, 1.0, 2.0, 5.0],\n",
    "    },\n",
    "    {\n",
    "        'clf__kernel': ['rbf'],\n",
    "        'clf__C': [0.1, 0.5, 1.0, 2.0, 5.0],\n",
    "        'clf__gamma': ['scale', 'auto'],\n",
    "    }\n",
    "]\n",
    "\n",
    "svc_gs, svc_results = run_model(\"SVC\", svc_pipe, svc_grid, tscv)"
   ],
   "outputs": [
    {
     "name": "stdout",
     "output_type": "stream",
     "text": [
      "\n",
      "[SVC]\n",
      "Best CV f1_macro: 0.6279 ± 0.0186\n",
      "Best params: {'clf__C': 5.0, 'clf__kernel': 'linear'}\n"
     ]
    }
   ],
   "execution_count": 17
  },
  {
   "metadata": {
    "ExecuteTime": {
     "end_time": "2025-10-08T13:12:48.281437Z",
     "start_time": "2025-10-08T13:12:48.263104Z"
    }
   },
   "cell_type": "code",
   "source": [
    "summary = pd.DataFrame({\n",
    "    'model': ['LogReg', 'KNN', 'SVC'],\n",
    "    'cv_f1_macro_mean': [logreg_gs.best_score_, knn_gs.best_score_, svc_gs.best_score_],\n",
    "})\n",
    "print(\"\\nCV summary (training-set, time-series CV):\")\n",
    "print(summary.sort_values('cv_f1_macro_mean', ascending=False).reset_index(drop=True))\n"
   ],
   "outputs": [
    {
     "name": "stdout",
     "output_type": "stream",
     "text": [
      "\n",
      "CV summary (training-set, time-series CV):\n",
      "    model  cv_f1_macro_mean\n",
      "0     SVC          0.627871\n",
      "1     KNN          0.620303\n",
      "2  LogReg          0.600550\n"
     ]
    }
   ],
   "execution_count": 18
  },
  {
   "metadata": {
    "ExecuteTime": {
     "end_time": "2025-10-08T13:20:53.215481Z",
     "start_time": "2025-10-08T13:20:53.011858Z"
    }
   },
   "cell_type": "code",
   "source": [
    "\n",
    "models = {\n",
    "    \"Logistic Regression\": logreg_gs.best_estimator_,\n",
    "    \"KNN\": knn_gs.best_estimator_,\n",
    "    \"SVC\": svc_gs.best_estimator_,\n",
    "}\n",
    "\n",
    "cv_scores = {\n",
    "    \"Logistic Regression\": logreg_gs.best_score_,\n",
    "    \"KNN\": knn_gs.best_score_,\n",
    "    \"SVC\": svc_gs.best_score_,\n",
    "}\n",
    "\n",
    "best_model_name = max(cv_scores, key=cv_scores.get)\n",
    "best_model = models[best_model_name]\n",
    "\n",
    "\n",
    "X_test_sfs = test[selected_features].copy()\n",
    "y_test = test['target'].copy()\n",
    "\n",
    "results = []\n",
    "\n",
    "for name, model in models.items():\n",
    "    y_pred = model.predict(X_test_sfs)\n",
    "\n",
    "    acc = accuracy_score(y_test, y_pred)\n",
    "    precision, recall, f1, _ = precision_recall_fscore_support(\n",
    "        y_test, y_pred, average=None, labels=sorted(y_test.unique())\n",
    "    )\n",
    "\n",
    "    results.append({\n",
    "        'Model': name,\n",
    "        'Accuracy': acc,\n",
    "        'Macro F1': f1.mean(),\n",
    "        'Class 0 F1': f1[0],\n",
    "        'Class 1 F1': f1[1],\n",
    "        'Class 2 F1': f1[2] if len(f1) > 2 else np.nan\n",
    "    })\n",
    "\n",
    "    cm = confusion_matrix(y_test, y_pred)\n",
    "    disp = ConfusionMatrixDisplay(confusion_matrix=cm)\n",
    "    disp.plot(cmap='Blues', values_format='d')\n",
    "    plt.title(f'Confusion Matrix - {name}')\n",
    "    plt.show()\n",
    "\n",
    "results_df = pd.DataFrame(results)\n",
    "print(results_df.sort_values(\"Macro F1\", ascending=False).reset_index(drop=True))"
   ],
   "outputs": [
    {
     "data": {
      "text/plain": [
       "<Figure size 640x480 with 2 Axes>"
      ],
      "image/png": "[encoded data removed]"
     },
     "metadata": {},
     "output_type": "display_data"
    },
    {
     "data": {
      "text/plain": [
       "<Figure size 640x480 with 2 Axes>"
      ],
      "image/png": "[encoded data removed]"
     },
     "metadata": {},
     "output_type": "display_data"
    },
    {
     "data": {
      "text/plain": [
       "<Figure size 640x480 with 2 Axes>"
      ],
      "image/png": "[encoded data removed]"
     },
     "metadata": {},
     "output_type": "display_data"
    },
    {
     "name": "stdout",
     "output_type": "stream",
     "text": [
      "                 Model  Accuracy  Macro F1  Class 0 F1  Class 1 F1  Class 2 F1\n",
      "0                  SVC  0.628099  0.588194    0.583732    0.712766    0.468085\n",
      "1  Logistic Regression  0.611570  0.576809    0.560386    0.699454    0.470588\n",
      "2                  KNN  0.600551  0.566098    0.555556    0.681199    0.461538\n"
     ]
    }
   ],
   "execution_count": 23
  },
  {
   "metadata": {},
   "cell_type": "markdown",
   "source": [
    "# Interpretation\n",
    "\n",
    "SVC has the highest overall performance with a top macro-F1 of 0.59 and accuracy of 63%.\n",
    "SVC shows strong classification performance for Class 1 since it is the majority class, to make the\n",
    "performance also comparable with Class 0 and 2 we can use minority oversampling / majority undersampling"
   ]
  },
  {
   "metadata": {
    "ExecuteTime": {
     "end_time": "2025-10-08T13:26:48.796500Z",
     "start_time": "2025-10-08T13:26:48.776574Z"
    }
   },
   "cell_type": "code",
   "source": [
    "import pickle\n",
    "\n",
    "model_path = root / 'models'\n",
    "model_path.mkdir(parents=True, exist_ok=True)\n",
    "\n",
    "models_to_save = {\n",
    "    'logreg_model.pkl': logreg_gs.best_estimator_,\n",
    "    'knn_model.pkl': knn_gs.best_estimator_,\n",
    "    'svc_model.pkl': svc_gs.best_estimator_,\n",
    "}\n",
    "\n",
    "for filename, model in models_to_save.items():\n",
    "    with open(model_path / filename, 'wb') as f:\n",
    "        pickle.dump(model, f)\n",
    "    print(f\"Saved: {filename}\")"
   ],
   "outputs": [
    {
     "name": "stdout",
     "output_type": "stream",
     "text": [
      "Saved: logreg_model.pkl\n",
      "Saved: knn_model.pkl\n",
      "Saved: svc_model.pkl\n"
     ]
    }
   ],
   "execution_count": 27
  },
  {
   "metadata": {},
   "cell_type": "code",
   "outputs": [],
   "execution_count": null,
   "source": ""
  }
 ],
 "metadata": {
  "language_info": {
   "name": "python"
  }
 },
 "nbformat": 4,
 "nbformat_minor": 2
}
